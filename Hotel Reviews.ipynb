{
 "cells": [
  {
   "cell_type": "markdown",
   "id": "124385db",
   "metadata": {},
   "source": [
    "## Import Libraries "
   ]
  },
  {
   "cell_type": "code",
   "execution_count": 1,
   "id": "f9cf05c8",
   "metadata": {},
   "outputs": [],
   "source": [
    "import numpy as np\n",
    "import pandas as pd\n",
    "import matplotlib.pyplot as plt\n",
    "import seaborn as sns\n",
    "import warnings\n",
    "warnings.filterwarnings('ignore')"
   ]
  },
  {
   "cell_type": "code",
   "execution_count": 2,
   "id": "71825083",
   "metadata": {},
   "outputs": [],
   "source": [
    "state = 7\n",
    "np.random.seed(state)\n",
    "import random\n",
    "random.seed(state)"
   ]
  },
  {
   "cell_type": "markdown",
   "id": "692f0af7",
   "metadata": {},
   "source": [
    "## Exploring Dataset "
   ]
  },
  {
   "cell_type": "code",
   "execution_count": 3,
   "id": "5c08b141",
   "metadata": {},
   "outputs": [
    {
     "data": {
      "text/html": [
       "<div>\n",
       "<style scoped>\n",
       "    .dataframe tbody tr th:only-of-type {\n",
       "        vertical-align: middle;\n",
       "    }\n",
       "\n",
       "    .dataframe tbody tr th {\n",
       "        vertical-align: top;\n",
       "    }\n",
       "\n",
       "    .dataframe thead th {\n",
       "        text-align: right;\n",
       "    }\n",
       "</style>\n",
       "<table border=\"1\" class=\"dataframe\">\n",
       "  <thead>\n",
       "    <tr style=\"text-align: right;\">\n",
       "      <th></th>\n",
       "      <th>Review</th>\n",
       "      <th>Rating</th>\n",
       "    </tr>\n",
       "  </thead>\n",
       "  <tbody>\n",
       "    <tr>\n",
       "      <th>0</th>\n",
       "      <td>nice hotel expensive parking got good deal sta...</td>\n",
       "      <td>4</td>\n",
       "    </tr>\n",
       "    <tr>\n",
       "      <th>1</th>\n",
       "      <td>ok nothing special charge diamond member hilto...</td>\n",
       "      <td>2</td>\n",
       "    </tr>\n",
       "    <tr>\n",
       "      <th>2</th>\n",
       "      <td>nice rooms not 4* experience hotel monaco seat...</td>\n",
       "      <td>3</td>\n",
       "    </tr>\n",
       "    <tr>\n",
       "      <th>3</th>\n",
       "      <td>unique, great stay, wonderful time hotel monac...</td>\n",
       "      <td>5</td>\n",
       "    </tr>\n",
       "    <tr>\n",
       "      <th>4</th>\n",
       "      <td>great stay great stay, went seahawk game aweso...</td>\n",
       "      <td>5</td>\n",
       "    </tr>\n",
       "    <tr>\n",
       "      <th>5</th>\n",
       "      <td>love monaco staff husband stayed hotel crazy w...</td>\n",
       "      <td>5</td>\n",
       "    </tr>\n",
       "    <tr>\n",
       "      <th>6</th>\n",
       "      <td>cozy stay rainy city, husband spent 7 nights m...</td>\n",
       "      <td>5</td>\n",
       "    </tr>\n",
       "    <tr>\n",
       "      <th>7</th>\n",
       "      <td>excellent staff, housekeeping quality hotel ch...</td>\n",
       "      <td>4</td>\n",
       "    </tr>\n",
       "    <tr>\n",
       "      <th>8</th>\n",
       "      <td>hotel stayed hotel monaco cruise, rooms genero...</td>\n",
       "      <td>5</td>\n",
       "    </tr>\n",
       "    <tr>\n",
       "      <th>9</th>\n",
       "      <td>excellent stayed hotel monaco past w/e delight...</td>\n",
       "      <td>5</td>\n",
       "    </tr>\n",
       "  </tbody>\n",
       "</table>\n",
       "</div>"
      ],
      "text/plain": [
       "                                              Review  Rating\n",
       "0  nice hotel expensive parking got good deal sta...       4\n",
       "1  ok nothing special charge diamond member hilto...       2\n",
       "2  nice rooms not 4* experience hotel monaco seat...       3\n",
       "3  unique, great stay, wonderful time hotel monac...       5\n",
       "4  great stay great stay, went seahawk game aweso...       5\n",
       "5  love monaco staff husband stayed hotel crazy w...       5\n",
       "6  cozy stay rainy city, husband spent 7 nights m...       5\n",
       "7  excellent staff, housekeeping quality hotel ch...       4\n",
       "8  hotel stayed hotel monaco cruise, rooms genero...       5\n",
       "9  excellent stayed hotel monaco past w/e delight...       5"
      ]
     },
     "execution_count": 3,
     "metadata": {},
     "output_type": "execute_result"
    }
   ],
   "source": [
    "df = pd.read_csv('tripadvisor_hotel_reviews.csv')\n",
    "df.head(10)"
   ]
  },
  {
   "cell_type": "code",
   "execution_count": 4,
   "id": "0fb6dd5f",
   "metadata": {},
   "outputs": [
    {
     "data": {
      "text/plain": [
       "Review    0\n",
       "Rating    0\n",
       "dtype: int64"
      ]
     },
     "execution_count": 4,
     "metadata": {},
     "output_type": "execute_result"
    }
   ],
   "source": [
    "df.isnull().sum()\n",
    "# No null values present"
   ]
  },
  {
   "cell_type": "code",
   "execution_count": 5,
   "id": "72195881",
   "metadata": {},
   "outputs": [
    {
     "data": {
      "text/plain": [
       "13501"
      ]
     },
     "execution_count": 5,
     "metadata": {},
     "output_type": "execute_result"
    }
   ],
   "source": [
    "# Finding length of the longest review.\n",
    "max_length = len(max(list(df['Review']), key = len))\n",
    "max_length"
   ]
  },
  {
   "cell_type": "code",
   "execution_count": 6,
   "id": "5b1c9db6",
   "metadata": {},
   "outputs": [
    {
     "data": {
      "text/plain": [
       "724.896832755844"
      ]
     },
     "execution_count": 6,
     "metadata": {},
     "output_type": "execute_result"
    }
   ],
   "source": [
    "# Lets find the average length of reviews\n",
    "length = []\n",
    "for i in list(df['Review']):\n",
    "    length.append(len(i))\n",
    "    \n",
    "sum(length)/len(length)"
   ]
  },
  {
   "cell_type": "code",
   "execution_count": 7,
   "id": "5fce9e2a",
   "metadata": {},
   "outputs": [
    {
     "data": {
      "text/plain": [
       "5    9054\n",
       "4    6039\n",
       "3    2184\n",
       "2    1793\n",
       "1    1421\n",
       "Name: Rating, dtype: int64"
      ]
     },
     "execution_count": 7,
     "metadata": {},
     "output_type": "execute_result"
    }
   ],
   "source": [
    "df['Rating'].value_counts()"
   ]
  },
  {
   "cell_type": "code",
   "execution_count": 8,
   "id": "91b1122f",
   "metadata": {},
   "outputs": [
    {
     "data": {
      "text/plain": [
       "Text(0, 0.5, 'Ratings')"
      ]
     },
     "execution_count": 8,
     "metadata": {},
     "output_type": "execute_result"
    },
    {
     "data": {
      "image/png": "[encoded data removed]",
      "text/plain": [
       "<Figure size 1080x432 with 1 Axes>"
      ]
     },
     "metadata": {},
     "output_type": "display_data"
    }
   ],
   "source": [
    "plt.style.use('seaborn-whitegrid')\n",
    "plt.rcParams.update({'font.size': 16})\n",
    "plt.figure(figsize = (15, 6))\n",
    "sns.countplot(y = df['Rating'])\n",
    "plt.xlabel('Count')\n",
    "plt.ylabel('Ratings')"
   ]
  },
  {
   "cell_type": "markdown",
   "id": "821d0150",
   "metadata": {},
   "source": [
    "### Its an imbalanced dataset. We will have to deal with this using class weights to prevent bias towards majority classes."
   ]
  },
  {
   "cell_type": "markdown",
   "id": "a6176e3e",
   "metadata": {},
   "source": [
    "## Stopwords "
   ]
  },
  {
   "cell_type": "code",
   "execution_count": 9,
   "id": "79142e87",
   "metadata": {},
   "outputs": [
    {
     "name": "stderr",
     "output_type": "stream",
     "text": [
      "[nltk_data] Downloading package stopwords to\n",
      "[nltk_data]     C:\\Users\\Madridista\\AppData\\Roaming\\nltk_data...\n",
      "[nltk_data]   Package stopwords is already up-to-date!\n"
     ]
    }
   ],
   "source": [
    "import nltk\n",
    "from nltk.corpus import stopwords\n",
    "nltk.download('stopwords')\n",
    "\n",
    "stopword = stopwords.words('english')\n",
    "execption = ['they','them','their','theirs','what','which','who','why', 'how','when','where','how', 'few', 'no','nor','not','can',\n",
    "             'will',\"don't\",'should', \"should've\",\"aren't\",'couldn','only','too','very','don',\"aren't\",'couldn','but','did',\"couldn't\",\n",
    "             \"didn't\",'doesn',\"doesn't\", 'hadn',\"hadn't\",'hasn',\"hasn't\",'haven',\"haven't\",'isn',\"isn't\",'mightn',\"mightn't\",\n",
    "             'mustn',\"mustn't\",'needn', \"needn't\",\"shan't\",'shouldn',\"shouldn't\",'wasn',\"wasn't\",'weren',\"weren't\",\"won't\",'wouldn',\n",
    "             \"wouldn't\",'ain','aren', 'didn', 'don']\n",
    "stop = [x for x in stopword if x not in execption]"
   ]
  },
  {
   "cell_type": "markdown",
   "id": "a8e08b42",
   "metadata": {},
   "source": [
    "### Removed the words present in the 'exception' list from stopwords because these words are important for detecting the sentiment of the reviewer."
   ]
  },
  {
   "cell_type": "markdown",
   "id": "d86ff2e4",
   "metadata": {},
   "source": [
    "## Data preprocessing "
   ]
  },
  {
   "cell_type": "code",
   "execution_count": 10,
   "id": "87fbdac6",
   "metadata": {},
   "outputs": [],
   "source": [
    "import re\n",
    "from nltk.stem.porter import PorterStemmer\n",
    "ps = PorterStemmer()"
   ]
  },
  {
   "cell_type": "code",
   "execution_count": 11,
   "id": "281bfec9",
   "metadata": {},
   "outputs": [],
   "source": [
    "def preprocess(X):\n",
    "    corpus = []\n",
    "    for i in range(len(X)):\n",
    "        review = re.sub('[^a-zA-Z]',' ', X[i])\n",
    "        review = review.lower()\n",
    "        review = review.split()\n",
    "        review = [ps.stem(x) for x in review if x not in stop]\n",
    "        review = ' '.join(review)\n",
    "        corpus.append(review)\n",
    "    return corpus"
   ]
  },
  {
   "cell_type": "code",
   "execution_count": 12,
   "id": "b158a2f7",
   "metadata": {},
   "outputs": [],
   "source": [
    "corpus = preprocess(list(df['Review']))"
   ]
  },
  {
   "cell_type": "markdown",
   "id": "7711b510",
   "metadata": {},
   "source": [
    "### Cleaned the text by removing non-alphabetical characters, converting all words to lower case and stemming each word. Here PorterStemmer is used for stemming."
   ]
  },
  {
   "cell_type": "markdown",
   "id": "77dbb154",
   "metadata": {},
   "source": [
    "## Train test split"
   ]
  },
  {
   "cell_type": "code",
   "execution_count": 13,
   "id": "16724d5a",
   "metadata": {},
   "outputs": [],
   "source": [
    "from sklearn.model_selection import cross_val_score\n",
    "from sklearn.model_selection import train_test_split\n",
    "y = df['Rating']\n",
    "X_train, X_test, y_train, y_test = train_test_split(corpus, y, stratify = y, test_size = 0.2, random_state = state)"
   ]
  },
  {
   "cell_type": "markdown",
   "id": "c629e8c1",
   "metadata": {},
   "source": [
    "## TFIDF and Logistic Regression "
   ]
  },
  {
   "cell_type": "code",
   "execution_count": 14,
   "id": "f20e2a25",
   "metadata": {},
   "outputs": [],
   "source": [
    "from sklearn.feature_extraction.text import TfidfVectorizer\n",
    "from sklearn.linear_model import LogisticRegression\n",
    "from sklearn.pipeline import Pipeline"
   ]
  },
  {
   "cell_type": "code",
   "execution_count": 15,
   "id": "cb835e58",
   "metadata": {},
   "outputs": [],
   "source": [
    "# Create Pipeline\n",
    "# (1, 2) means both unigrams and bigrams\n",
    "# max_features = 8000 will build a vocabulary of 8000 features\n",
    "\n",
    "pipe_lr = Pipeline([\n",
    "    ('tfidf', TfidfVectorizer(ngram_range = (1,2), max_features = 8000)),\n",
    "    ('model', LogisticRegression(class_weight = 'balanced', multi_class = 'ovr'))\n",
    "])"
   ]
  },
  {
   "cell_type": "code",
   "execution_count": 16,
   "id": "08092b30",
   "metadata": {},
   "outputs": [
    {
     "name": "stdout",
     "output_type": "stream",
     "text": [
      "LogisticRegression\n",
      "Mean Accuracy: 61.55 %\n",
      "Standard Deviation: 0.83 %\n"
     ]
    }
   ],
   "source": [
    "scores = cross_val_score(pipe_lr, X_train, y_train ,cv = 7, n_jobs = -1)\n",
    "print('LogisticRegression')\n",
    "print('Mean Accuracy:', np.round(np.mean(scores) * 100, 2),'%')\n",
    "print('Standard Deviation:', np.round(np.std(scores) * 100, 2),'%')"
   ]
  },
  {
   "cell_type": "code",
   "execution_count": 17,
   "id": "5f4a27a6",
   "metadata": {},
   "outputs": [
    {
     "data": {
      "text/plain": [
       "Pipeline(steps=[('tfidf',\n",
       "                 TfidfVectorizer(max_features=8000, ngram_range=(1, 2))),\n",
       "                ('model',\n",
       "                 LogisticRegression(class_weight='balanced',\n",
       "                                    multi_class='ovr'))])"
      ]
     },
     "execution_count": 17,
     "metadata": {},
     "output_type": "execute_result"
    }
   ],
   "source": [
    "pipe_lr.fit(X_train, y_train)"
   ]
  },
  {
   "cell_type": "markdown",
   "id": "17483444",
   "metadata": {},
   "source": [
    "### Since it's an imbalanced dataset, we have used 'stratify' in train_test_split to ensure equal representation of classes in test and train set. The class_weight = “balanced” mode uses the values of y to automatically adjust weights inversely proportional to class frequencies in the input data. We can either use OneVRestClassifier along with Logistic Regression or mention multi_class = 'ovr' as parameter in Logistic Regression."
   ]
  },
  {
   "cell_type": "markdown",
   "id": "7f5112e7",
   "metadata": {},
   "source": [
    "## TFIDF and MultinomialNB "
   ]
  },
  {
   "cell_type": "code",
   "execution_count": 18,
   "id": "399be117",
   "metadata": {},
   "outputs": [],
   "source": [
    "from sklearn.naive_bayes import MultinomialNB\n",
    "from sklearn.multiclass import OneVsRestClassifier"
   ]
  },
  {
   "cell_type": "code",
   "execution_count": 19,
   "id": "4410426d",
   "metadata": {},
   "outputs": [],
   "source": [
    "pipe_nb = Pipeline([\n",
    "    ('tfidf', TfidfVectorizer(ngram_range = (1,2), max_features = 8000)),\n",
    "    ('model', OneVsRestClassifier(MultinomialNB(), n_jobs = -1))\n",
    "])"
   ]
  },
  {
   "cell_type": "code",
   "execution_count": 20,
   "id": "61bec7d6",
   "metadata": {},
   "outputs": [
    {
     "name": "stdout",
     "output_type": "stream",
     "text": [
      "MultinomialNB\n",
      "Mean Accuracy: 57.32 %\n",
      "Standard Deviation: 0.65 %\n"
     ]
    }
   ],
   "source": [
    "scores = cross_val_score(pipe_nb, X_train, y_train ,cv = 7, n_jobs = -1)\n",
    "print('MultinomialNB')\n",
    "print('Mean Accuracy:', np.round(np.mean(scores) * 100, 2),'%')\n",
    "print('Standard Deviation:', np.round(np.std(scores) * 100, 2),'%')"
   ]
  },
  {
   "cell_type": "code",
   "execution_count": 21,
   "id": "abf568bd",
   "metadata": {},
   "outputs": [
    {
     "data": {
      "text/plain": [
       "Pipeline(steps=[('tfidf',\n",
       "                 TfidfVectorizer(max_features=8000, ngram_range=(1, 2))),\n",
       "                ('model',\n",
       "                 OneVsRestClassifier(estimator=MultinomialNB(), n_jobs=-1))])"
      ]
     },
     "execution_count": 21,
     "metadata": {},
     "output_type": "execute_result"
    }
   ],
   "source": [
    "pipe_nb.fit(X_train, y_train)"
   ]
  },
  {
   "cell_type": "markdown",
   "id": "4e7d55eb",
   "metadata": {},
   "source": [
    "## Evaluation"
   ]
  },
  {
   "cell_type": "markdown",
   "id": "865238e6",
   "metadata": {},
   "source": [
    "### Logistic Regression "
   ]
  },
  {
   "cell_type": "code",
   "execution_count": 22,
   "id": "ff896bd0",
   "metadata": {},
   "outputs": [
    {
     "data": {
      "text/plain": [
       "0.5759941449133935"
      ]
     },
     "execution_count": 22,
     "metadata": {},
     "output_type": "execute_result"
    }
   ],
   "source": [
    "pipe_nb.score(X_test, y_test)"
   ]
  },
  {
   "cell_type": "code",
   "execution_count": 23,
   "id": "00fa06e9",
   "metadata": {},
   "outputs": [
    {
     "data": {
      "text/plain": [
       "0.8705488597931342"
      ]
     },
     "execution_count": 23,
     "metadata": {},
     "output_type": "execute_result"
    }
   ],
   "source": [
    "# ROC_AUC_SCORE\n",
    "from sklearn.metrics import roc_auc_score, plot_confusion_matrix\n",
    "y_predlr_proba = pipe_lr.predict_proba(X_test)\n",
    "roc_auc_score(y_test, y_predlr_proba, multi_class = 'ovr')"
   ]
  },
  {
   "cell_type": "code",
   "execution_count": 24,
   "id": "4c6f3a61",
   "metadata": {},
   "outputs": [
    {
     "data": {
      "text/plain": [
       "<sklearn.metrics._plot.confusion_matrix.ConfusionMatrixDisplay at 0x2ca5a6020a0>"
      ]
     },
     "execution_count": 24,
     "metadata": {},
     "output_type": "execute_result"
    },
    {
     "data": {
      "image/png": "[encoded data removed]",
      "text/plain": [
       "<Figure size 864x576 with 2 Axes>"
      ]
     },
     "metadata": {},
     "output_type": "display_data"
    }
   ],
   "source": [
    "# Confusion Matrix\n",
    "plt.style.use('seaborn-white')\n",
    "fig, ax = plt.subplots(figsize = (12, 8))\n",
    "plot_confusion_matrix(pipe_lr, X_test, y_test, ax = ax)"
   ]
  },
  {
   "cell_type": "markdown",
   "id": "057f8e9f",
   "metadata": {},
   "source": [
    "### MultiNomialNB "
   ]
  },
  {
   "cell_type": "code",
   "execution_count": 25,
   "id": "e8c9ec74",
   "metadata": {},
   "outputs": [
    {
     "data": {
      "text/plain": [
       "0.5759941449133935"
      ]
     },
     "execution_count": 25,
     "metadata": {},
     "output_type": "execute_result"
    }
   ],
   "source": [
    "pipe_nb.score(X_test, y_test)"
   ]
  },
  {
   "cell_type": "code",
   "execution_count": 26,
   "id": "c393b873",
   "metadata": {},
   "outputs": [
    {
     "data": {
      "text/plain": [
       "0.8598208503057719"
      ]
     },
     "execution_count": 26,
     "metadata": {},
     "output_type": "execute_result"
    }
   ],
   "source": [
    "# ROC_AUC_SCORE\n",
    "from sklearn.metrics import roc_auc_score, plot_confusion_matrix\n",
    "y_prednb_proba = pipe_nb.predict_proba(X_test)\n",
    "roc_auc_score(y_test, y_prednb_proba, multi_class = 'ovr')"
   ]
  },
  {
   "cell_type": "code",
   "execution_count": 27,
   "id": "7506841c",
   "metadata": {},
   "outputs": [
    {
     "data": {
      "text/plain": [
       "<sklearn.metrics._plot.confusion_matrix.ConfusionMatrixDisplay at 0x2ca639b1670>"
      ]
     },
     "execution_count": 27,
     "metadata": {},
     "output_type": "execute_result"
    },
    {
     "data": {
      "image/png": "[encoded data removed]",
      "text/plain": [
       "<Figure size 864x576 with 2 Axes>"
      ]
     },
     "metadata": {},
     "output_type": "display_data"
    }
   ],
   "source": [
    "# Confusion Matrix\n",
    "plt.style.use('seaborn-white')\n",
    "plt.rcParams.update({'font.size': 16})\n",
    "fig, ax = plt.subplots(figsize = (12, 8))\n",
    "plot_confusion_matrix(pipe_nb, X_test, y_test, ax = ax)"
   ]
  },
  {
   "cell_type": "markdown",
   "id": "71fd4b90",
   "metadata": {},
   "source": [
    "### Logistic Regression gives better results for minority classes. Few predictions are present on the immediate right and left of the true label which isn't much of a probelm and very few predictions are present far away from the true label in Logistic Regression."
   ]
  },
  {
   "cell_type": "markdown",
   "id": "7fcf8ddd",
   "metadata": {},
   "source": [
    "## Saving pipeline using joblib "
   ]
  },
  {
   "cell_type": "code",
   "execution_count": 28,
   "id": "ff2c65d5",
   "metadata": {},
   "outputs": [
    {
     "data": {
      "text/plain": [
       "['tfidf_model']"
      ]
     },
     "execution_count": 28,
     "metadata": {},
     "output_type": "execute_result"
    }
   ],
   "source": [
    "# Save the pipeline\n",
    "import joblib\n",
    "joblib.dump(pipe_lr, 'tfidf_model')"
   ]
  },
  {
   "cell_type": "code",
   "execution_count": 29,
   "id": "276fe415",
   "metadata": {},
   "outputs": [],
   "source": [
    "# Load the Pipeline\n",
    "model = joblib.load('tfidf_model')"
   ]
  },
  {
   "cell_type": "code",
   "execution_count": 30,
   "id": "10e5e306",
   "metadata": {},
   "outputs": [
    {
     "name": "stdout",
     "output_type": "stream",
     "text": [
      "Had a very bad experience. The food was not good and the staff were rude to us.\n"
     ]
    },
    {
     "data": {
      "text/plain": [
       "1"
      ]
     },
     "execution_count": 30,
     "metadata": {},
     "output_type": "execute_result"
    }
   ],
   "source": [
    "# Lets try the model on new input.\n",
    "res = model.predict_proba(preprocess([input()]))\n",
    "np.argmax(res)+1"
   ]
  },
  {
   "cell_type": "code",
   "execution_count": null,
   "id": "f4298226",
   "metadata": {},
   "outputs": [],
   "source": []
  }
 ],
 "metadata": {
  "kernelspec": {
   "display_name": "Python 3",
   "language": "python",
   "name": "python3"
  },
  "language_info": {
   "codemirror_mode": {
    "name": "ipython",
    "version": 3
   },
   "file_extension": ".py",
   "mimetype": "text/x-python",
   "name": "python",
   "nbconvert_exporter": "python",
   "pygments_lexer": "ipython3",
   "version": "3.8.10"
  }
 },
 "nbformat": 4,
 "nbformat_minor": 5
}
